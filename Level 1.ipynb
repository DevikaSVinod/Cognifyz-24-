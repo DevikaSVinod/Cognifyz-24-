{
 "cells": [
  {
   "cell_type": "markdown",
   "metadata": {},
   "source": [
    "#### Loading and Viewing the Dataset"
   ]
  },
  {
   "cell_type": "code",
   "execution_count": 2,
   "metadata": {},
   "outputs": [
    {
     "data": {
      "text/html": [
       "<div>\n",
       "<style scoped>\n",
       "    .dataframe tbody tr th:only-of-type {\n",
       "        vertical-align: middle;\n",
       "    }\n",
       "\n",
       "    .dataframe tbody tr th {\n",
       "        vertical-align: top;\n",
       "    }\n",
       "\n",
       "    .dataframe thead th {\n",
       "        text-align: right;\n",
       "    }\n",
       "</style>\n",
       "<table border=\"1\" class=\"dataframe\">\n",
       "  <thead>\n",
       "    <tr style=\"text-align: right;\">\n",
       "      <th></th>\n",
       "      <th>Restaurant ID</th>\n",
       "      <th>Restaurant Name</th>\n",
       "      <th>Country Code</th>\n",
       "      <th>City</th>\n",
       "      <th>Address</th>\n",
       "      <th>Locality</th>\n",
       "      <th>Locality Verbose</th>\n",
       "      <th>Longitude</th>\n",
       "      <th>Latitude</th>\n",
       "      <th>Cuisines</th>\n",
       "      <th>...</th>\n",
       "      <th>Currency</th>\n",
       "      <th>Has Table booking</th>\n",
       "      <th>Has Online delivery</th>\n",
       "      <th>Is delivering now</th>\n",
       "      <th>Switch to order menu</th>\n",
       "      <th>Price range</th>\n",
       "      <th>Aggregate rating</th>\n",
       "      <th>Rating color</th>\n",
       "      <th>Rating text</th>\n",
       "      <th>Votes</th>\n",
       "    </tr>\n",
       "  </thead>\n",
       "  <tbody>\n",
       "    <tr>\n",
       "      <th>0</th>\n",
       "      <td>6317637</td>\n",
       "      <td>Le Petit Souffle</td>\n",
       "      <td>162</td>\n",
       "      <td>Makati City</td>\n",
       "      <td>Third Floor, Century City Mall, Kalayaan Avenu...</td>\n",
       "      <td>Century City Mall, Poblacion, Makati City</td>\n",
       "      <td>Century City Mall, Poblacion, Makati City, Mak...</td>\n",
       "      <td>121.027535</td>\n",
       "      <td>14.565443</td>\n",
       "      <td>French, Japanese, Desserts</td>\n",
       "      <td>...</td>\n",
       "      <td>Botswana Pula(P)</td>\n",
       "      <td>Yes</td>\n",
       "      <td>No</td>\n",
       "      <td>No</td>\n",
       "      <td>No</td>\n",
       "      <td>3</td>\n",
       "      <td>4.8</td>\n",
       "      <td>Dark Green</td>\n",
       "      <td>Excellent</td>\n",
       "      <td>314</td>\n",
       "    </tr>\n",
       "    <tr>\n",
       "      <th>1</th>\n",
       "      <td>6304287</td>\n",
       "      <td>Izakaya Kikufuji</td>\n",
       "      <td>162</td>\n",
       "      <td>Makati City</td>\n",
       "      <td>Little Tokyo, 2277 Chino Roces Avenue, Legaspi...</td>\n",
       "      <td>Little Tokyo, Legaspi Village, Makati City</td>\n",
       "      <td>Little Tokyo, Legaspi Village, Makati City, Ma...</td>\n",
       "      <td>121.014101</td>\n",
       "      <td>14.553708</td>\n",
       "      <td>Japanese</td>\n",
       "      <td>...</td>\n",
       "      <td>Botswana Pula(P)</td>\n",
       "      <td>Yes</td>\n",
       "      <td>No</td>\n",
       "      <td>No</td>\n",
       "      <td>No</td>\n",
       "      <td>3</td>\n",
       "      <td>4.5</td>\n",
       "      <td>Dark Green</td>\n",
       "      <td>Excellent</td>\n",
       "      <td>591</td>\n",
       "    </tr>\n",
       "    <tr>\n",
       "      <th>2</th>\n",
       "      <td>6300002</td>\n",
       "      <td>Heat - Edsa Shangri-La</td>\n",
       "      <td>162</td>\n",
       "      <td>Mandaluyong City</td>\n",
       "      <td>Edsa Shangri-La, 1 Garden Way, Ortigas, Mandal...</td>\n",
       "      <td>Edsa Shangri-La, Ortigas, Mandaluyong City</td>\n",
       "      <td>Edsa Shangri-La, Ortigas, Mandaluyong City, Ma...</td>\n",
       "      <td>121.056831</td>\n",
       "      <td>14.581404</td>\n",
       "      <td>Seafood, Asian, Filipino, Indian</td>\n",
       "      <td>...</td>\n",
       "      <td>Botswana Pula(P)</td>\n",
       "      <td>Yes</td>\n",
       "      <td>No</td>\n",
       "      <td>No</td>\n",
       "      <td>No</td>\n",
       "      <td>4</td>\n",
       "      <td>4.4</td>\n",
       "      <td>Green</td>\n",
       "      <td>Very Good</td>\n",
       "      <td>270</td>\n",
       "    </tr>\n",
       "    <tr>\n",
       "      <th>3</th>\n",
       "      <td>6318506</td>\n",
       "      <td>Ooma</td>\n",
       "      <td>162</td>\n",
       "      <td>Mandaluyong City</td>\n",
       "      <td>Third Floor, Mega Fashion Hall, SM Megamall, O...</td>\n",
       "      <td>SM Megamall, Ortigas, Mandaluyong City</td>\n",
       "      <td>SM Megamall, Ortigas, Mandaluyong City, Mandal...</td>\n",
       "      <td>121.056475</td>\n",
       "      <td>14.585318</td>\n",
       "      <td>Japanese, Sushi</td>\n",
       "      <td>...</td>\n",
       "      <td>Botswana Pula(P)</td>\n",
       "      <td>No</td>\n",
       "      <td>No</td>\n",
       "      <td>No</td>\n",
       "      <td>No</td>\n",
       "      <td>4</td>\n",
       "      <td>4.9</td>\n",
       "      <td>Dark Green</td>\n",
       "      <td>Excellent</td>\n",
       "      <td>365</td>\n",
       "    </tr>\n",
       "    <tr>\n",
       "      <th>4</th>\n",
       "      <td>6314302</td>\n",
       "      <td>Sambo Kojin</td>\n",
       "      <td>162</td>\n",
       "      <td>Mandaluyong City</td>\n",
       "      <td>Third Floor, Mega Atrium, SM Megamall, Ortigas...</td>\n",
       "      <td>SM Megamall, Ortigas, Mandaluyong City</td>\n",
       "      <td>SM Megamall, Ortigas, Mandaluyong City, Mandal...</td>\n",
       "      <td>121.057508</td>\n",
       "      <td>14.584450</td>\n",
       "      <td>Japanese, Korean</td>\n",
       "      <td>...</td>\n",
       "      <td>Botswana Pula(P)</td>\n",
       "      <td>Yes</td>\n",
       "      <td>No</td>\n",
       "      <td>No</td>\n",
       "      <td>No</td>\n",
       "      <td>4</td>\n",
       "      <td>4.8</td>\n",
       "      <td>Dark Green</td>\n",
       "      <td>Excellent</td>\n",
       "      <td>229</td>\n",
       "    </tr>\n",
       "    <tr>\n",
       "      <th>...</th>\n",
       "      <td>...</td>\n",
       "      <td>...</td>\n",
       "      <td>...</td>\n",
       "      <td>...</td>\n",
       "      <td>...</td>\n",
       "      <td>...</td>\n",
       "      <td>...</td>\n",
       "      <td>...</td>\n",
       "      <td>...</td>\n",
       "      <td>...</td>\n",
       "      <td>...</td>\n",
       "      <td>...</td>\n",
       "      <td>...</td>\n",
       "      <td>...</td>\n",
       "      <td>...</td>\n",
       "      <td>...</td>\n",
       "      <td>...</td>\n",
       "      <td>...</td>\n",
       "      <td>...</td>\n",
       "      <td>...</td>\n",
       "      <td>...</td>\n",
       "    </tr>\n",
       "    <tr>\n",
       "      <th>9546</th>\n",
       "      <td>5915730</td>\n",
       "      <td>Naml۱ Gurme</td>\n",
       "      <td>208</td>\n",
       "      <td>��stanbul</td>\n",
       "      <td>Kemanke�� Karamustafa Pa��a Mahallesi, R۱ht۱m ...</td>\n",
       "      <td>Karak�_y</td>\n",
       "      <td>Karak�_y, ��stanbul</td>\n",
       "      <td>28.977392</td>\n",
       "      <td>41.022793</td>\n",
       "      <td>Turkish</td>\n",
       "      <td>...</td>\n",
       "      <td>Turkish Lira(TL)</td>\n",
       "      <td>No</td>\n",
       "      <td>No</td>\n",
       "      <td>No</td>\n",
       "      <td>No</td>\n",
       "      <td>3</td>\n",
       "      <td>4.1</td>\n",
       "      <td>Green</td>\n",
       "      <td>Very Good</td>\n",
       "      <td>788</td>\n",
       "    </tr>\n",
       "    <tr>\n",
       "      <th>9547</th>\n",
       "      <td>5908749</td>\n",
       "      <td>Ceviz A��ac۱</td>\n",
       "      <td>208</td>\n",
       "      <td>��stanbul</td>\n",
       "      <td>Ko��uyolu Mahallesi, Muhittin ��st�_nda�� Cadd...</td>\n",
       "      <td>Ko��uyolu</td>\n",
       "      <td>Ko��uyolu, ��stanbul</td>\n",
       "      <td>29.041297</td>\n",
       "      <td>41.009847</td>\n",
       "      <td>World Cuisine, Patisserie, Cafe</td>\n",
       "      <td>...</td>\n",
       "      <td>Turkish Lira(TL)</td>\n",
       "      <td>No</td>\n",
       "      <td>No</td>\n",
       "      <td>No</td>\n",
       "      <td>No</td>\n",
       "      <td>3</td>\n",
       "      <td>4.2</td>\n",
       "      <td>Green</td>\n",
       "      <td>Very Good</td>\n",
       "      <td>1034</td>\n",
       "    </tr>\n",
       "    <tr>\n",
       "      <th>9548</th>\n",
       "      <td>5915807</td>\n",
       "      <td>Huqqa</td>\n",
       "      <td>208</td>\n",
       "      <td>��stanbul</td>\n",
       "      <td>Kuru�_e��me Mahallesi, Muallim Naci Caddesi, N...</td>\n",
       "      <td>Kuru�_e��me</td>\n",
       "      <td>Kuru�_e��me, ��stanbul</td>\n",
       "      <td>29.034640</td>\n",
       "      <td>41.055817</td>\n",
       "      <td>Italian, World Cuisine</td>\n",
       "      <td>...</td>\n",
       "      <td>Turkish Lira(TL)</td>\n",
       "      <td>No</td>\n",
       "      <td>No</td>\n",
       "      <td>No</td>\n",
       "      <td>No</td>\n",
       "      <td>4</td>\n",
       "      <td>3.7</td>\n",
       "      <td>Yellow</td>\n",
       "      <td>Good</td>\n",
       "      <td>661</td>\n",
       "    </tr>\n",
       "    <tr>\n",
       "      <th>9549</th>\n",
       "      <td>5916112</td>\n",
       "      <td>A���k Kahve</td>\n",
       "      <td>208</td>\n",
       "      <td>��stanbul</td>\n",
       "      <td>Kuru�_e��me Mahallesi, Muallim Naci Caddesi, N...</td>\n",
       "      <td>Kuru�_e��me</td>\n",
       "      <td>Kuru�_e��me, ��stanbul</td>\n",
       "      <td>29.036019</td>\n",
       "      <td>41.057979</td>\n",
       "      <td>Restaurant Cafe</td>\n",
       "      <td>...</td>\n",
       "      <td>Turkish Lira(TL)</td>\n",
       "      <td>No</td>\n",
       "      <td>No</td>\n",
       "      <td>No</td>\n",
       "      <td>No</td>\n",
       "      <td>4</td>\n",
       "      <td>4.0</td>\n",
       "      <td>Green</td>\n",
       "      <td>Very Good</td>\n",
       "      <td>901</td>\n",
       "    </tr>\n",
       "    <tr>\n",
       "      <th>9550</th>\n",
       "      <td>5927402</td>\n",
       "      <td>Walter's Coffee Roastery</td>\n",
       "      <td>208</td>\n",
       "      <td>��stanbul</td>\n",
       "      <td>Cafea��a Mahallesi, Bademalt۱ Sokak, No 21/B, ...</td>\n",
       "      <td>Moda</td>\n",
       "      <td>Moda, ��stanbul</td>\n",
       "      <td>29.026016</td>\n",
       "      <td>40.984776</td>\n",
       "      <td>Cafe</td>\n",
       "      <td>...</td>\n",
       "      <td>Turkish Lira(TL)</td>\n",
       "      <td>No</td>\n",
       "      <td>No</td>\n",
       "      <td>No</td>\n",
       "      <td>No</td>\n",
       "      <td>2</td>\n",
       "      <td>4.0</td>\n",
       "      <td>Green</td>\n",
       "      <td>Very Good</td>\n",
       "      <td>591</td>\n",
       "    </tr>\n",
       "  </tbody>\n",
       "</table>\n",
       "<p>9551 rows × 21 columns</p>\n",
       "</div>"
      ],
      "text/plain": [
       "      Restaurant ID           Restaurant Name  Country Code              City  \\\n",
       "0           6317637          Le Petit Souffle           162       Makati City   \n",
       "1           6304287          Izakaya Kikufuji           162       Makati City   \n",
       "2           6300002    Heat - Edsa Shangri-La           162  Mandaluyong City   \n",
       "3           6318506                      Ooma           162  Mandaluyong City   \n",
       "4           6314302               Sambo Kojin           162  Mandaluyong City   \n",
       "...             ...                       ...           ...               ...   \n",
       "9546        5915730               Naml۱ Gurme           208         ��stanbul   \n",
       "9547        5908749              Ceviz A��ac۱           208         ��stanbul   \n",
       "9548        5915807                     Huqqa           208         ��stanbul   \n",
       "9549        5916112               A���k Kahve           208         ��stanbul   \n",
       "9550        5927402  Walter's Coffee Roastery           208         ��stanbul   \n",
       "\n",
       "                                                Address  \\\n",
       "0     Third Floor, Century City Mall, Kalayaan Avenu...   \n",
       "1     Little Tokyo, 2277 Chino Roces Avenue, Legaspi...   \n",
       "2     Edsa Shangri-La, 1 Garden Way, Ortigas, Mandal...   \n",
       "3     Third Floor, Mega Fashion Hall, SM Megamall, O...   \n",
       "4     Third Floor, Mega Atrium, SM Megamall, Ortigas...   \n",
       "...                                                 ...   \n",
       "9546  Kemanke�� Karamustafa Pa��a Mahallesi, R۱ht۱m ...   \n",
       "9547  Ko��uyolu Mahallesi, Muhittin ��st�_nda�� Cadd...   \n",
       "9548  Kuru�_e��me Mahallesi, Muallim Naci Caddesi, N...   \n",
       "9549  Kuru�_e��me Mahallesi, Muallim Naci Caddesi, N...   \n",
       "9550  Cafea��a Mahallesi, Bademalt۱ Sokak, No 21/B, ...   \n",
       "\n",
       "                                        Locality  \\\n",
       "0      Century City Mall, Poblacion, Makati City   \n",
       "1     Little Tokyo, Legaspi Village, Makati City   \n",
       "2     Edsa Shangri-La, Ortigas, Mandaluyong City   \n",
       "3         SM Megamall, Ortigas, Mandaluyong City   \n",
       "4         SM Megamall, Ortigas, Mandaluyong City   \n",
       "...                                          ...   \n",
       "9546                                    Karak�_y   \n",
       "9547                                   Ko��uyolu   \n",
       "9548                                 Kuru�_e��me   \n",
       "9549                                 Kuru�_e��me   \n",
       "9550                                        Moda   \n",
       "\n",
       "                                       Locality Verbose   Longitude  \\\n",
       "0     Century City Mall, Poblacion, Makati City, Mak...  121.027535   \n",
       "1     Little Tokyo, Legaspi Village, Makati City, Ma...  121.014101   \n",
       "2     Edsa Shangri-La, Ortigas, Mandaluyong City, Ma...  121.056831   \n",
       "3     SM Megamall, Ortigas, Mandaluyong City, Mandal...  121.056475   \n",
       "4     SM Megamall, Ortigas, Mandaluyong City, Mandal...  121.057508   \n",
       "...                                                 ...         ...   \n",
       "9546                                Karak�_y, ��stanbul   28.977392   \n",
       "9547                               Ko��uyolu, ��stanbul   29.041297   \n",
       "9548                             Kuru�_e��me, ��stanbul   29.034640   \n",
       "9549                             Kuru�_e��me, ��stanbul   29.036019   \n",
       "9550                                    Moda, ��stanbul   29.026016   \n",
       "\n",
       "       Latitude                          Cuisines  ...          Currency  \\\n",
       "0     14.565443        French, Japanese, Desserts  ...  Botswana Pula(P)   \n",
       "1     14.553708                          Japanese  ...  Botswana Pula(P)   \n",
       "2     14.581404  Seafood, Asian, Filipino, Indian  ...  Botswana Pula(P)   \n",
       "3     14.585318                   Japanese, Sushi  ...  Botswana Pula(P)   \n",
       "4     14.584450                  Japanese, Korean  ...  Botswana Pula(P)   \n",
       "...         ...                               ...  ...               ...   \n",
       "9546  41.022793                           Turkish  ...  Turkish Lira(TL)   \n",
       "9547  41.009847   World Cuisine, Patisserie, Cafe  ...  Turkish Lira(TL)   \n",
       "9548  41.055817            Italian, World Cuisine  ...  Turkish Lira(TL)   \n",
       "9549  41.057979                   Restaurant Cafe  ...  Turkish Lira(TL)   \n",
       "9550  40.984776                              Cafe  ...  Turkish Lira(TL)   \n",
       "\n",
       "     Has Table booking Has Online delivery Is delivering now  \\\n",
       "0                  Yes                  No                No   \n",
       "1                  Yes                  No                No   \n",
       "2                  Yes                  No                No   \n",
       "3                   No                  No                No   \n",
       "4                  Yes                  No                No   \n",
       "...                ...                 ...               ...   \n",
       "9546                No                  No                No   \n",
       "9547                No                  No                No   \n",
       "9548                No                  No                No   \n",
       "9549                No                  No                No   \n",
       "9550                No                  No                No   \n",
       "\n",
       "     Switch to order menu Price range  Aggregate rating  Rating color  \\\n",
       "0                      No           3               4.8    Dark Green   \n",
       "1                      No           3               4.5    Dark Green   \n",
       "2                      No           4               4.4         Green   \n",
       "3                      No           4               4.9    Dark Green   \n",
       "4                      No           4               4.8    Dark Green   \n",
       "...                   ...         ...               ...           ...   \n",
       "9546                   No           3               4.1         Green   \n",
       "9547                   No           3               4.2         Green   \n",
       "9548                   No           4               3.7        Yellow   \n",
       "9549                   No           4               4.0         Green   \n",
       "9550                   No           2               4.0         Green   \n",
       "\n",
       "     Rating text Votes  \n",
       "0      Excellent   314  \n",
       "1      Excellent   591  \n",
       "2      Very Good   270  \n",
       "3      Excellent   365  \n",
       "4      Excellent   229  \n",
       "...          ...   ...  \n",
       "9546   Very Good   788  \n",
       "9547   Very Good  1034  \n",
       "9548        Good   661  \n",
       "9549   Very Good   901  \n",
       "9550   Very Good   591  \n",
       "\n",
       "[9551 rows x 21 columns]"
      ]
     },
     "execution_count": 2,
     "metadata": {},
     "output_type": "execute_result"
    }
   ],
   "source": [
    "# Importing the dataset\n",
    "import pandas as pd\n",
    "df = pd.read_csv(\"Dataset .csv\")\n",
    "df"
   ]
  },
  {
   "cell_type": "code",
   "execution_count": 3,
   "metadata": {},
   "outputs": [
    {
     "data": {
      "text/html": [
       "<div>\n",
       "<style scoped>\n",
       "    .dataframe tbody tr th:only-of-type {\n",
       "        vertical-align: middle;\n",
       "    }\n",
       "\n",
       "    .dataframe tbody tr th {\n",
       "        vertical-align: top;\n",
       "    }\n",
       "\n",
       "    .dataframe thead th {\n",
       "        text-align: right;\n",
       "    }\n",
       "</style>\n",
       "<table border=\"1\" class=\"dataframe\">\n",
       "  <thead>\n",
       "    <tr style=\"text-align: right;\">\n",
       "      <th></th>\n",
       "      <th>Restaurant ID</th>\n",
       "      <th>Restaurant Name</th>\n",
       "      <th>Country Code</th>\n",
       "      <th>City</th>\n",
       "      <th>Address</th>\n",
       "      <th>Locality</th>\n",
       "      <th>Locality Verbose</th>\n",
       "      <th>Longitude</th>\n",
       "      <th>Latitude</th>\n",
       "      <th>Cuisines</th>\n",
       "      <th>...</th>\n",
       "      <th>Currency</th>\n",
       "      <th>Has Table booking</th>\n",
       "      <th>Has Online delivery</th>\n",
       "      <th>Is delivering now</th>\n",
       "      <th>Switch to order menu</th>\n",
       "      <th>Price range</th>\n",
       "      <th>Aggregate rating</th>\n",
       "      <th>Rating color</th>\n",
       "      <th>Rating text</th>\n",
       "      <th>Votes</th>\n",
       "    </tr>\n",
       "  </thead>\n",
       "  <tbody>\n",
       "    <tr>\n",
       "      <th>0</th>\n",
       "      <td>6317637</td>\n",
       "      <td>Le Petit Souffle</td>\n",
       "      <td>162</td>\n",
       "      <td>Makati City</td>\n",
       "      <td>Third Floor, Century City Mall, Kalayaan Avenu...</td>\n",
       "      <td>Century City Mall, Poblacion, Makati City</td>\n",
       "      <td>Century City Mall, Poblacion, Makati City, Mak...</td>\n",
       "      <td>121.027535</td>\n",
       "      <td>14.565443</td>\n",
       "      <td>French, Japanese, Desserts</td>\n",
       "      <td>...</td>\n",
       "      <td>Botswana Pula(P)</td>\n",
       "      <td>Yes</td>\n",
       "      <td>No</td>\n",
       "      <td>No</td>\n",
       "      <td>No</td>\n",
       "      <td>3</td>\n",
       "      <td>4.8</td>\n",
       "      <td>Dark Green</td>\n",
       "      <td>Excellent</td>\n",
       "      <td>314</td>\n",
       "    </tr>\n",
       "    <tr>\n",
       "      <th>1</th>\n",
       "      <td>6304287</td>\n",
       "      <td>Izakaya Kikufuji</td>\n",
       "      <td>162</td>\n",
       "      <td>Makati City</td>\n",
       "      <td>Little Tokyo, 2277 Chino Roces Avenue, Legaspi...</td>\n",
       "      <td>Little Tokyo, Legaspi Village, Makati City</td>\n",
       "      <td>Little Tokyo, Legaspi Village, Makati City, Ma...</td>\n",
       "      <td>121.014101</td>\n",
       "      <td>14.553708</td>\n",
       "      <td>Japanese</td>\n",
       "      <td>...</td>\n",
       "      <td>Botswana Pula(P)</td>\n",
       "      <td>Yes</td>\n",
       "      <td>No</td>\n",
       "      <td>No</td>\n",
       "      <td>No</td>\n",
       "      <td>3</td>\n",
       "      <td>4.5</td>\n",
       "      <td>Dark Green</td>\n",
       "      <td>Excellent</td>\n",
       "      <td>591</td>\n",
       "    </tr>\n",
       "    <tr>\n",
       "      <th>2</th>\n",
       "      <td>6300002</td>\n",
       "      <td>Heat - Edsa Shangri-La</td>\n",
       "      <td>162</td>\n",
       "      <td>Mandaluyong City</td>\n",
       "      <td>Edsa Shangri-La, 1 Garden Way, Ortigas, Mandal...</td>\n",
       "      <td>Edsa Shangri-La, Ortigas, Mandaluyong City</td>\n",
       "      <td>Edsa Shangri-La, Ortigas, Mandaluyong City, Ma...</td>\n",
       "      <td>121.056831</td>\n",
       "      <td>14.581404</td>\n",
       "      <td>Seafood, Asian, Filipino, Indian</td>\n",
       "      <td>...</td>\n",
       "      <td>Botswana Pula(P)</td>\n",
       "      <td>Yes</td>\n",
       "      <td>No</td>\n",
       "      <td>No</td>\n",
       "      <td>No</td>\n",
       "      <td>4</td>\n",
       "      <td>4.4</td>\n",
       "      <td>Green</td>\n",
       "      <td>Very Good</td>\n",
       "      <td>270</td>\n",
       "    </tr>\n",
       "    <tr>\n",
       "      <th>3</th>\n",
       "      <td>6318506</td>\n",
       "      <td>Ooma</td>\n",
       "      <td>162</td>\n",
       "      <td>Mandaluyong City</td>\n",
       "      <td>Third Floor, Mega Fashion Hall, SM Megamall, O...</td>\n",
       "      <td>SM Megamall, Ortigas, Mandaluyong City</td>\n",
       "      <td>SM Megamall, Ortigas, Mandaluyong City, Mandal...</td>\n",
       "      <td>121.056475</td>\n",
       "      <td>14.585318</td>\n",
       "      <td>Japanese, Sushi</td>\n",
       "      <td>...</td>\n",
       "      <td>Botswana Pula(P)</td>\n",
       "      <td>No</td>\n",
       "      <td>No</td>\n",
       "      <td>No</td>\n",
       "      <td>No</td>\n",
       "      <td>4</td>\n",
       "      <td>4.9</td>\n",
       "      <td>Dark Green</td>\n",
       "      <td>Excellent</td>\n",
       "      <td>365</td>\n",
       "    </tr>\n",
       "    <tr>\n",
       "      <th>4</th>\n",
       "      <td>6314302</td>\n",
       "      <td>Sambo Kojin</td>\n",
       "      <td>162</td>\n",
       "      <td>Mandaluyong City</td>\n",
       "      <td>Third Floor, Mega Atrium, SM Megamall, Ortigas...</td>\n",
       "      <td>SM Megamall, Ortigas, Mandaluyong City</td>\n",
       "      <td>SM Megamall, Ortigas, Mandaluyong City, Mandal...</td>\n",
       "      <td>121.057508</td>\n",
       "      <td>14.584450</td>\n",
       "      <td>Japanese, Korean</td>\n",
       "      <td>...</td>\n",
       "      <td>Botswana Pula(P)</td>\n",
       "      <td>Yes</td>\n",
       "      <td>No</td>\n",
       "      <td>No</td>\n",
       "      <td>No</td>\n",
       "      <td>4</td>\n",
       "      <td>4.8</td>\n",
       "      <td>Dark Green</td>\n",
       "      <td>Excellent</td>\n",
       "      <td>229</td>\n",
       "    </tr>\n",
       "  </tbody>\n",
       "</table>\n",
       "<p>5 rows × 21 columns</p>\n",
       "</div>"
      ],
      "text/plain": [
       "   Restaurant ID         Restaurant Name  Country Code              City  \\\n",
       "0        6317637        Le Petit Souffle           162       Makati City   \n",
       "1        6304287        Izakaya Kikufuji           162       Makati City   \n",
       "2        6300002  Heat - Edsa Shangri-La           162  Mandaluyong City   \n",
       "3        6318506                    Ooma           162  Mandaluyong City   \n",
       "4        6314302             Sambo Kojin           162  Mandaluyong City   \n",
       "\n",
       "                                             Address  \\\n",
       "0  Third Floor, Century City Mall, Kalayaan Avenu...   \n",
       "1  Little Tokyo, 2277 Chino Roces Avenue, Legaspi...   \n",
       "2  Edsa Shangri-La, 1 Garden Way, Ortigas, Mandal...   \n",
       "3  Third Floor, Mega Fashion Hall, SM Megamall, O...   \n",
       "4  Third Floor, Mega Atrium, SM Megamall, Ortigas...   \n",
       "\n",
       "                                     Locality  \\\n",
       "0   Century City Mall, Poblacion, Makati City   \n",
       "1  Little Tokyo, Legaspi Village, Makati City   \n",
       "2  Edsa Shangri-La, Ortigas, Mandaluyong City   \n",
       "3      SM Megamall, Ortigas, Mandaluyong City   \n",
       "4      SM Megamall, Ortigas, Mandaluyong City   \n",
       "\n",
       "                                    Locality Verbose   Longitude   Latitude  \\\n",
       "0  Century City Mall, Poblacion, Makati City, Mak...  121.027535  14.565443   \n",
       "1  Little Tokyo, Legaspi Village, Makati City, Ma...  121.014101  14.553708   \n",
       "2  Edsa Shangri-La, Ortigas, Mandaluyong City, Ma...  121.056831  14.581404   \n",
       "3  SM Megamall, Ortigas, Mandaluyong City, Mandal...  121.056475  14.585318   \n",
       "4  SM Megamall, Ortigas, Mandaluyong City, Mandal...  121.057508  14.584450   \n",
       "\n",
       "                           Cuisines  ...          Currency Has Table booking  \\\n",
       "0        French, Japanese, Desserts  ...  Botswana Pula(P)               Yes   \n",
       "1                          Japanese  ...  Botswana Pula(P)               Yes   \n",
       "2  Seafood, Asian, Filipino, Indian  ...  Botswana Pula(P)               Yes   \n",
       "3                   Japanese, Sushi  ...  Botswana Pula(P)                No   \n",
       "4                  Japanese, Korean  ...  Botswana Pula(P)               Yes   \n",
       "\n",
       "  Has Online delivery Is delivering now Switch to order menu Price range  \\\n",
       "0                  No                No                   No           3   \n",
       "1                  No                No                   No           3   \n",
       "2                  No                No                   No           4   \n",
       "3                  No                No                   No           4   \n",
       "4                  No                No                   No           4   \n",
       "\n",
       "   Aggregate rating  Rating color Rating text Votes  \n",
       "0               4.8    Dark Green   Excellent   314  \n",
       "1               4.5    Dark Green   Excellent   591  \n",
       "2               4.4         Green   Very Good   270  \n",
       "3               4.9    Dark Green   Excellent   365  \n",
       "4               4.8    Dark Green   Excellent   229  \n",
       "\n",
       "[5 rows x 21 columns]"
      ]
     },
     "execution_count": 3,
     "metadata": {},
     "output_type": "execute_result"
    }
   ],
   "source": [
    "# Print first 5 rows of the dataframe\n",
    "df.head()"
   ]
  },
  {
   "cell_type": "code",
   "execution_count": 4,
   "metadata": {},
   "outputs": [
    {
     "data": {
      "text/html": [
       "<div>\n",
       "<style scoped>\n",
       "    .dataframe tbody tr th:only-of-type {\n",
       "        vertical-align: middle;\n",
       "    }\n",
       "\n",
       "    .dataframe tbody tr th {\n",
       "        vertical-align: top;\n",
       "    }\n",
       "\n",
       "    .dataframe thead th {\n",
       "        text-align: right;\n",
       "    }\n",
       "</style>\n",
       "<table border=\"1\" class=\"dataframe\">\n",
       "  <thead>\n",
       "    <tr style=\"text-align: right;\">\n",
       "      <th></th>\n",
       "      <th>Restaurant ID</th>\n",
       "      <th>Restaurant Name</th>\n",
       "      <th>Country Code</th>\n",
       "      <th>City</th>\n",
       "      <th>Address</th>\n",
       "      <th>Locality</th>\n",
       "      <th>Locality Verbose</th>\n",
       "      <th>Longitude</th>\n",
       "      <th>Latitude</th>\n",
       "      <th>Cuisines</th>\n",
       "      <th>...</th>\n",
       "      <th>Currency</th>\n",
       "      <th>Has Table booking</th>\n",
       "      <th>Has Online delivery</th>\n",
       "      <th>Is delivering now</th>\n",
       "      <th>Switch to order menu</th>\n",
       "      <th>Price range</th>\n",
       "      <th>Aggregate rating</th>\n",
       "      <th>Rating color</th>\n",
       "      <th>Rating text</th>\n",
       "      <th>Votes</th>\n",
       "    </tr>\n",
       "  </thead>\n",
       "  <tbody>\n",
       "    <tr>\n",
       "      <th>9546</th>\n",
       "      <td>5915730</td>\n",
       "      <td>Naml۱ Gurme</td>\n",
       "      <td>208</td>\n",
       "      <td>��stanbul</td>\n",
       "      <td>Kemanke�� Karamustafa Pa��a Mahallesi, R۱ht۱m ...</td>\n",
       "      <td>Karak�_y</td>\n",
       "      <td>Karak�_y, ��stanbul</td>\n",
       "      <td>28.977392</td>\n",
       "      <td>41.022793</td>\n",
       "      <td>Turkish</td>\n",
       "      <td>...</td>\n",
       "      <td>Turkish Lira(TL)</td>\n",
       "      <td>No</td>\n",
       "      <td>No</td>\n",
       "      <td>No</td>\n",
       "      <td>No</td>\n",
       "      <td>3</td>\n",
       "      <td>4.1</td>\n",
       "      <td>Green</td>\n",
       "      <td>Very Good</td>\n",
       "      <td>788</td>\n",
       "    </tr>\n",
       "    <tr>\n",
       "      <th>9547</th>\n",
       "      <td>5908749</td>\n",
       "      <td>Ceviz A��ac۱</td>\n",
       "      <td>208</td>\n",
       "      <td>��stanbul</td>\n",
       "      <td>Ko��uyolu Mahallesi, Muhittin ��st�_nda�� Cadd...</td>\n",
       "      <td>Ko��uyolu</td>\n",
       "      <td>Ko��uyolu, ��stanbul</td>\n",
       "      <td>29.041297</td>\n",
       "      <td>41.009847</td>\n",
       "      <td>World Cuisine, Patisserie, Cafe</td>\n",
       "      <td>...</td>\n",
       "      <td>Turkish Lira(TL)</td>\n",
       "      <td>No</td>\n",
       "      <td>No</td>\n",
       "      <td>No</td>\n",
       "      <td>No</td>\n",
       "      <td>3</td>\n",
       "      <td>4.2</td>\n",
       "      <td>Green</td>\n",
       "      <td>Very Good</td>\n",
       "      <td>1034</td>\n",
       "    </tr>\n",
       "    <tr>\n",
       "      <th>9548</th>\n",
       "      <td>5915807</td>\n",
       "      <td>Huqqa</td>\n",
       "      <td>208</td>\n",
       "      <td>��stanbul</td>\n",
       "      <td>Kuru�_e��me Mahallesi, Muallim Naci Caddesi, N...</td>\n",
       "      <td>Kuru�_e��me</td>\n",
       "      <td>Kuru�_e��me, ��stanbul</td>\n",
       "      <td>29.034640</td>\n",
       "      <td>41.055817</td>\n",
       "      <td>Italian, World Cuisine</td>\n",
       "      <td>...</td>\n",
       "      <td>Turkish Lira(TL)</td>\n",
       "      <td>No</td>\n",
       "      <td>No</td>\n",
       "      <td>No</td>\n",
       "      <td>No</td>\n",
       "      <td>4</td>\n",
       "      <td>3.7</td>\n",
       "      <td>Yellow</td>\n",
       "      <td>Good</td>\n",
       "      <td>661</td>\n",
       "    </tr>\n",
       "    <tr>\n",
       "      <th>9549</th>\n",
       "      <td>5916112</td>\n",
       "      <td>A���k Kahve</td>\n",
       "      <td>208</td>\n",
       "      <td>��stanbul</td>\n",
       "      <td>Kuru�_e��me Mahallesi, Muallim Naci Caddesi, N...</td>\n",
       "      <td>Kuru�_e��me</td>\n",
       "      <td>Kuru�_e��me, ��stanbul</td>\n",
       "      <td>29.036019</td>\n",
       "      <td>41.057979</td>\n",
       "      <td>Restaurant Cafe</td>\n",
       "      <td>...</td>\n",
       "      <td>Turkish Lira(TL)</td>\n",
       "      <td>No</td>\n",
       "      <td>No</td>\n",
       "      <td>No</td>\n",
       "      <td>No</td>\n",
       "      <td>4</td>\n",
       "      <td>4.0</td>\n",
       "      <td>Green</td>\n",
       "      <td>Very Good</td>\n",
       "      <td>901</td>\n",
       "    </tr>\n",
       "    <tr>\n",
       "      <th>9550</th>\n",
       "      <td>5927402</td>\n",
       "      <td>Walter's Coffee Roastery</td>\n",
       "      <td>208</td>\n",
       "      <td>��stanbul</td>\n",
       "      <td>Cafea��a Mahallesi, Bademalt۱ Sokak, No 21/B, ...</td>\n",
       "      <td>Moda</td>\n",
       "      <td>Moda, ��stanbul</td>\n",
       "      <td>29.026016</td>\n",
       "      <td>40.984776</td>\n",
       "      <td>Cafe</td>\n",
       "      <td>...</td>\n",
       "      <td>Turkish Lira(TL)</td>\n",
       "      <td>No</td>\n",
       "      <td>No</td>\n",
       "      <td>No</td>\n",
       "      <td>No</td>\n",
       "      <td>2</td>\n",
       "      <td>4.0</td>\n",
       "      <td>Green</td>\n",
       "      <td>Very Good</td>\n",
       "      <td>591</td>\n",
       "    </tr>\n",
       "  </tbody>\n",
       "</table>\n",
       "<p>5 rows × 21 columns</p>\n",
       "</div>"
      ],
      "text/plain": [
       "      Restaurant ID           Restaurant Name  Country Code       City  \\\n",
       "9546        5915730               Naml۱ Gurme           208  ��stanbul   \n",
       "9547        5908749              Ceviz A��ac۱           208  ��stanbul   \n",
       "9548        5915807                     Huqqa           208  ��stanbul   \n",
       "9549        5916112               A���k Kahve           208  ��stanbul   \n",
       "9550        5927402  Walter's Coffee Roastery           208  ��stanbul   \n",
       "\n",
       "                                                Address     Locality  \\\n",
       "9546  Kemanke�� Karamustafa Pa��a Mahallesi, R۱ht۱m ...     Karak�_y   \n",
       "9547  Ko��uyolu Mahallesi, Muhittin ��st�_nda�� Cadd...    Ko��uyolu   \n",
       "9548  Kuru�_e��me Mahallesi, Muallim Naci Caddesi, N...  Kuru�_e��me   \n",
       "9549  Kuru�_e��me Mahallesi, Muallim Naci Caddesi, N...  Kuru�_e��me   \n",
       "9550  Cafea��a Mahallesi, Bademalt۱ Sokak, No 21/B, ...         Moda   \n",
       "\n",
       "            Locality Verbose  Longitude   Latitude  \\\n",
       "9546     Karak�_y, ��stanbul  28.977392  41.022793   \n",
       "9547    Ko��uyolu, ��stanbul  29.041297  41.009847   \n",
       "9548  Kuru�_e��me, ��stanbul  29.034640  41.055817   \n",
       "9549  Kuru�_e��me, ��stanbul  29.036019  41.057979   \n",
       "9550         Moda, ��stanbul  29.026016  40.984776   \n",
       "\n",
       "                             Cuisines  ...          Currency  \\\n",
       "9546                          Turkish  ...  Turkish Lira(TL)   \n",
       "9547  World Cuisine, Patisserie, Cafe  ...  Turkish Lira(TL)   \n",
       "9548           Italian, World Cuisine  ...  Turkish Lira(TL)   \n",
       "9549                  Restaurant Cafe  ...  Turkish Lira(TL)   \n",
       "9550                             Cafe  ...  Turkish Lira(TL)   \n",
       "\n",
       "     Has Table booking Has Online delivery Is delivering now  \\\n",
       "9546                No                  No                No   \n",
       "9547                No                  No                No   \n",
       "9548                No                  No                No   \n",
       "9549                No                  No                No   \n",
       "9550                No                  No                No   \n",
       "\n",
       "     Switch to order menu Price range  Aggregate rating  Rating color  \\\n",
       "9546                   No           3               4.1         Green   \n",
       "9547                   No           3               4.2         Green   \n",
       "9548                   No           4               3.7        Yellow   \n",
       "9549                   No           4               4.0         Green   \n",
       "9550                   No           2               4.0         Green   \n",
       "\n",
       "     Rating text Votes  \n",
       "9546   Very Good   788  \n",
       "9547   Very Good  1034  \n",
       "9548        Good   661  \n",
       "9549   Very Good   901  \n",
       "9550   Very Good   591  \n",
       "\n",
       "[5 rows x 21 columns]"
      ]
     },
     "execution_count": 4,
     "metadata": {},
     "output_type": "execute_result"
    }
   ],
   "source": [
    "# Print last 5 rows of the dataframe\n",
    "df.tail()"
   ]
  },
  {
   "cell_type": "code",
   "execution_count": 5,
   "metadata": {},
   "outputs": [
    {
     "name": "stdout",
     "output_type": "stream",
     "text": [
      "<class 'pandas.core.frame.DataFrame'>\n",
      "RangeIndex: 9551 entries, 0 to 9550\n",
      "Data columns (total 21 columns):\n",
      " #   Column                Non-Null Count  Dtype  \n",
      "---  ------                --------------  -----  \n",
      " 0   Restaurant ID         9551 non-null   int64  \n",
      " 1   Restaurant Name       9551 non-null   object \n",
      " 2   Country Code          9551 non-null   int64  \n",
      " 3   City                  9551 non-null   object \n",
      " 4   Address               9551 non-null   object \n",
      " 5   Locality              9551 non-null   object \n",
      " 6   Locality Verbose      9551 non-null   object \n",
      " 7   Longitude             9551 non-null   float64\n",
      " 8   Latitude              9551 non-null   float64\n",
      " 9   Cuisines              9542 non-null   object \n",
      " 10  Average Cost for two  9551 non-null   int64  \n",
      " 11  Currency              9551 non-null   object \n",
      " 12  Has Table booking     9551 non-null   object \n",
      " 13  Has Online delivery   9551 non-null   object \n",
      " 14  Is delivering now     9551 non-null   object \n",
      " 15  Switch to order menu  9551 non-null   object \n",
      " 16  Price range           9551 non-null   int64  \n",
      " 17  Aggregate rating      9551 non-null   float64\n",
      " 18  Rating color          9551 non-null   object \n",
      " 19  Rating text           9551 non-null   object \n",
      " 20  Votes                 9551 non-null   int64  \n",
      "dtypes: float64(3), int64(5), object(13)\n",
      "memory usage: 1.5+ MB\n"
     ]
    }
   ],
   "source": [
    "# Getting summary of the dataframe\n",
    "df.info()"
   ]
  },
  {
   "cell_type": "code",
   "execution_count": 6,
   "metadata": {},
   "outputs": [
    {
     "data": {
      "text/plain": [
       "Index(['Restaurant ID', 'Restaurant Name', 'Country Code', 'City', 'Address',\n",
       "       'Locality', 'Locality Verbose', 'Longitude', 'Latitude', 'Cuisines',\n",
       "       'Average Cost for two', 'Currency', 'Has Table booking',\n",
       "       'Has Online delivery', 'Is delivering now', 'Switch to order menu',\n",
       "       'Price range', 'Aggregate rating', 'Rating color', 'Rating text',\n",
       "       'Votes'],\n",
       "      dtype='object')"
      ]
     },
     "execution_count": 6,
     "metadata": {},
     "output_type": "execute_result"
    }
   ],
   "source": [
    "# Columns of the dataframe\n",
    "df.columns"
   ]
  },
  {
   "cell_type": "code",
   "execution_count": 7,
   "metadata": {},
   "outputs": [
    {
     "data": {
      "text/plain": [
       "Restaurant ID           9551\n",
       "Restaurant Name         7446\n",
       "Country Code              15\n",
       "City                     141\n",
       "Address                 8918\n",
       "Locality                1208\n",
       "Locality Verbose        1265\n",
       "Longitude               8120\n",
       "Latitude                8677\n",
       "Cuisines                1825\n",
       "Average Cost for two     140\n",
       "Currency                  12\n",
       "Has Table booking          2\n",
       "Has Online delivery        2\n",
       "Is delivering now          2\n",
       "Switch to order menu       1\n",
       "Price range                4\n",
       "Aggregate rating          33\n",
       "Rating color               6\n",
       "Rating text                6\n",
       "Votes                   1012\n",
       "dtype: int64"
      ]
     },
     "execution_count": 7,
     "metadata": {},
     "output_type": "execute_result"
    }
   ],
   "source": [
    "# Unique values of each columns\n",
    "df.nunique()"
   ]
  },
  {
   "cell_type": "markdown",
   "metadata": {},
   "source": [
    "#### Task 1 : Top Cuisines"
   ]
  },
  {
   "cell_type": "markdown",
   "metadata": {},
   "source": [
    "Determining the top ten most common cuisines : "
   ]
  },
  {
   "cell_type": "code",
   "execution_count": 8,
   "metadata": {},
   "outputs": [
    {
     "data": {
      "image/png": "[encoded data removed]",
      "text/plain": [
       "<Figure size 800x500 with 1 Axes>"
      ]
     },
     "metadata": {},
     "output_type": "display_data"
    }
   ],
   "source": [
    "# Get the top 10 most common cuisines\n",
    "top_cuisines = df['Cuisines'].value_counts().nlargest(10)\n",
    "\n",
    "import matplotlib.pyplot as plt\n",
    "# Plot the top cuisines\n",
    "plt.figure(figsize=(8, 5))\n",
    "top_cuisines.plot(kind='barh', color='skyblue')\n",
    "plt.title('Top 10 Cuisines')\n",
    "plt.xlabel('Count')\n",
    "plt.ylabel('Cuisines')\n",
    "plt.show()"
   ]
  },
  {
   "cell_type": "markdown",
   "metadata": {},
   "source": [
    "Interpretation : From here we got an idea about the top three cuisines in the dataset"
   ]
  },
  {
   "cell_type": "markdown",
   "metadata": {},
   "source": [
    "Determining the top three most common cuisines : "
   ]
  },
  {
   "cell_type": "code",
   "execution_count": 9,
   "metadata": {},
   "outputs": [
    {
     "data": {
      "image/png": "[encoded data removed]",
      "text/plain": [
       "<Figure size 800x500 with 1 Axes>"
      ]
     },
     "metadata": {},
     "output_type": "display_data"
    }
   ],
   "source": [
    "# Getting the top three most common cuisines in the dataset\n",
    "\n",
    "top_cuisines = df['Cuisines'].value_counts().nlargest(3)\n",
    "\n",
    "# Plot the top cuisines\n",
    "plt.figure(figsize=(8, 5))\n",
    "top_cuisines.plot(kind='bar', color='lightpink')\n",
    "plt.title('Top 3 Most Common Cuisines')\n",
    "plt.xlabel('Cuisines')\n",
    "plt.ylabel('Count')\n",
    "plt.show()"
   ]
  },
  {
   "cell_type": "markdown",
   "metadata": {},
   "source": [
    "Interpretation : So from the above bargraph we can conclude that 'North Indian','North Indian,Chinese' and 'Chinese' are the top three most\n",
    "common cuisines "
   ]
  },
  {
   "cell_type": "markdown",
   "metadata": {},
   "source": [
    "Calculating the percentage of restaurants that serve each of the top cuisines :"
   ]
  },
  {
   "cell_type": "code",
   "execution_count": 10,
   "metadata": {},
   "outputs": [
    {
     "name": "stdout",
     "output_type": "stream",
     "text": [
      "Percentage of restaurants serving each of the top cuisines:\n",
      "Cuisines\n",
      "North Indian             9.800021\n",
      "North Indian, Chinese    5.350225\n",
      "Chinese                  3.706418\n",
      "Name: count, dtype: float64\n"
     ]
    }
   ],
   "source": [
    "# Get the top 3 most common cuisines\n",
    "top_cuisines = df['Cuisines'].value_counts().nlargest(3)\n",
    "\n",
    "# Calculate the total number of restaurants\n",
    "total_restaurants = len(df)\n",
    "\n",
    "# Calculate the percentage of restaurants serving each cuisine\n",
    "percentages = (top_cuisines / total_restaurants) * 100\n",
    "\n",
    "print(\"Percentage of restaurants serving each of the top cuisines:\")\n",
    "print(percentages)"
   ]
  },
  {
   "cell_type": "markdown",
   "metadata": {},
   "source": [
    "Visualization of Percentage of Restaurants Serving Top Cuisines :"
   ]
  },
  {
   "cell_type": "code",
   "execution_count": 11,
   "metadata": {},
   "outputs": [
    {
     "data": {
      "image/png": "[encoded data removed]",
      "text/plain": [
       "<Figure size 800x600 with 1 Axes>"
      ]
     },
     "metadata": {},
     "output_type": "display_data"
    }
   ],
   "source": [
    "# Define custom colors for the pie chart\n",
    "custom_colors = ['lightblue', 'lightgreen', 'lightcoral', 'lightpink', 'lightskyblue']\n",
    "\n",
    "# Plot the pie chart with custom colors\n",
    "plt.figure(figsize=(8, 6))\n",
    "plt.pie(percentages, labels=percentages.index, autopct='%1.1f%%', startangle=140, colors=custom_colors)\n",
    "plt.title('Percentage of Restaurants Serving Top Cuisines')\n",
    "plt.axis('equal')  # Equal aspect ratio ensures that pie is drawn as a circle.\n",
    "plt.show()\n"
   ]
  },
  {
   "cell_type": "markdown",
   "metadata": {},
   "source": [
    "Interpretation : Here we observed that approximately 98% of restaurants offer North Indian cuisine, while around 53.5% serve a combination of North Indian and Chinese dishes, and purely Chinese restaurants make up about 37.1% of the total."
   ]
  },
  {
   "cell_type": "markdown",
   "metadata": {},
   "source": [
    "#### Task 2 : City Analysis"
   ]
  },
  {
   "cell_type": "markdown",
   "metadata": {},
   "source": [
    "Finding the city with the highest number of restaurants : "
   ]
  },
  {
   "cell_type": "code",
   "execution_count": 12,
   "metadata": {},
   "outputs": [
    {
     "name": "stdout",
     "output_type": "stream",
     "text": [
      "The City with the highest number of restaurants is New Delhi with 5473 restaurants.\n"
     ]
    }
   ],
   "source": [
    "# Count the number of restaurants in each city\n",
    "city_restaurant_counts = df['City'].value_counts()\n",
    "\n",
    "# Find the city with the highest count of restaurants\n",
    "city_with_most_restaurants = city_restaurant_counts.idxmax()\n",
    "max_restaurants_count = city_restaurant_counts.max()\n",
    "\n",
    "# Display the result\n",
    "print(f\"The City with the highest number of restaurants is {city_with_most_restaurants} with {max_restaurants_count} restaurants.\")\n"
   ]
  },
  {
   "cell_type": "markdown",
   "metadata": {},
   "source": [
    "Calculating the average rating for restaurants in each city : "
   ]
  },
  {
   "cell_type": "code",
   "execution_count": 13,
   "metadata": {},
   "outputs": [
    {
     "name": "stdout",
     "output_type": "stream",
     "text": [
      "Average rating for restaurants in each city (sorted in descending order):\n",
      "City\n",
      "Inner City          4.900000\n",
      "Quezon City         4.800000\n",
      "Makati City         4.650000\n",
      "Pasig City          4.633333\n",
      "Mandaluyong City    4.625000\n",
      "                      ...   \n",
      "New Delhi           2.438845\n",
      "Montville           2.400000\n",
      "Mc Millan           2.400000\n",
      "Noida               2.036204\n",
      "Faridabad           1.866932\n",
      "Name: Aggregate rating, Length: 141, dtype: float64\n"
     ]
    }
   ],
   "source": [
    "# Calculate the average rating for restaurants in each city and sort in descending order\n",
    "average_ratings_by_city = df.groupby('City')['Aggregate rating'].mean().sort_values(ascending=False)\n",
    "\n",
    "# Display the result\n",
    "print(\"Average rating for restaurants in each city (sorted in descending order):\")\n",
    "print(average_ratings_by_city)\n"
   ]
  },
  {
   "cell_type": "markdown",
   "metadata": {},
   "source": [
    "Visualization of top 10 cities with the highest average ratings : "
   ]
  },
  {
   "cell_type": "code",
   "execution_count": 14,
   "metadata": {},
   "outputs": [
    {
     "data": {
      "image/png": "[encoded data removed]",
      "text/plain": [
       "<Figure size 1000x600 with 1 Axes>"
      ]
     },
     "metadata": {},
     "output_type": "display_data"
    }
   ],
   "source": [
    "# Select the top 10 cities with the highest average ratings\n",
    "top_10_cities = average_ratings_by_city.head(10)\n",
    "\n",
    "# Plot the average ratings for the top 10 cities\n",
    "plt.figure(figsize=(10, 6))\n",
    "top_10_cities.plot(kind='bar', color='palegreen')\n",
    "plt.title('Top 10 Cities with Highest Average Rating for Restaurants')\n",
    "plt.xlabel('City')\n",
    "plt.ylabel('Average Rating')\n",
    "plt.xticks(rotation=45, ha='right')  \n",
    "plt.tight_layout()  # Adjust layout to prevent cropping of labels\n",
    "plt.show()\n"
   ]
  },
  {
   "cell_type": "markdown",
   "metadata": {},
   "source": [
    "Determining the city with the highest average rating :"
   ]
  },
  {
   "cell_type": "code",
   "execution_count": 15,
   "metadata": {},
   "outputs": [
    {
     "name": "stdout",
     "output_type": "stream",
     "text": [
      "The city with the highest average rating is Inner City with an average rating of 4.90\n"
     ]
    }
   ],
   "source": [
    "# Calculate the average rating for restaurants in each city\n",
    "average_ratings_by_city = df.groupby('City')['Aggregate rating'].mean()\n",
    "\n",
    "# Find the city with the highest average rating\n",
    "city_highest_average_rating = average_ratings_by_city.idxmax()\n",
    "highest_average_rating = average_ratings_by_city.max()\n",
    "\n",
    "# Display the result\n",
    "print(f\"The city with the highest average rating is {city_highest_average_rating} with an average rating of {highest_average_rating:.2f}\")"
   ]
  },
  {
   "cell_type": "markdown",
   "metadata": {},
   "source": [
    "#### Task 3 : Price Range Distribution"
   ]
  },
  {
   "cell_type": "markdown",
   "metadata": {},
   "source": [
    "Histogram"
   ]
  },
  {
   "cell_type": "code",
   "execution_count": 16,
   "metadata": {},
   "outputs": [
    {
     "data": {
      "image/png": "[encoded data removed]",
      "text/plain": [
       "<Figure size 800x600 with 1 Axes>"
      ]
     },
     "metadata": {},
     "output_type": "display_data"
    }
   ],
   "source": [
    "# Plot the histogram\n",
    "plt.figure(figsize=(8, 6))\n",
    "plt.hist(df['Price range'], bins=range(1, 7), color='khaki', edgecolor='black')\n",
    "plt.title('Distribution of Price Ranges Among Restaurants')\n",
    "plt.xlabel('Price Range')\n",
    "plt.ylabel('Frequency')\n",
    "plt.xticks(range(1, 7)) \n",
    "plt.grid(axis='y', linestyle='--', alpha=0.7)\n",
    "plt.show()"
   ]
  },
  {
   "cell_type": "markdown",
   "metadata": {},
   "source": [
    "Bar Chart "
   ]
  },
  {
   "cell_type": "code",
   "execution_count": 17,
   "metadata": {},
   "outputs": [
    {
     "data": {
      "image/png": "[encoded data removed]",
      "text/plain": [
       "<Figure size 800x600 with 1 Axes>"
      ]
     },
     "metadata": {},
     "output_type": "display_data"
    }
   ],
   "source": [
    "# Count the frequency of each price range\n",
    "price_range_counts = df['Price range'].value_counts().sort_index()\n",
    "\n",
    "# Plot the bar chart\n",
    "plt.figure(figsize=(8, 6))\n",
    "price_range_counts.plot(kind='bar', color='thistle', edgecolor='black')\n",
    "plt.title('Distribution of Price Ranges Among Restaurants')\n",
    "plt.xlabel('Price Range')\n",
    "plt.ylabel('Frequency')\n",
    "plt.xticks(rotation=0)  \n",
    "plt.grid(axis='y', linestyle='--', alpha=0.7)\n",
    "plt.show()"
   ]
  },
  {
   "cell_type": "markdown",
   "metadata": {},
   "source": [
    "Calculating the percentage of restaurants in each price range category : "
   ]
  },
  {
   "cell_type": "code",
   "execution_count": 18,
   "metadata": {},
   "outputs": [
    {
     "name": "stdout",
     "output_type": "stream",
     "text": [
      "Number and percentage of restaurants in each price range category:\n",
      "             Count  Percentage\n",
      "Price range                   \n",
      "1             4444   46.529159\n",
      "2             3113   32.593446\n",
      "3             1408   14.741912\n",
      "4              586    6.135483\n"
     ]
    }
   ],
   "source": [
    "# Calculate the total number of restaurants\n",
    "total_restaurants = len(df)\n",
    "\n",
    "# Calculate the percentage of restaurants in each price range category\n",
    "percentages = (price_range_counts / total_restaurants) * 100\n",
    "\n",
    "# Combine counts and percentages into a DataFrame\n",
    "price_range_stats = pd.DataFrame({'Count': price_range_counts, 'Percentage': percentages})\n",
    "\n",
    "# Display the result\n",
    "print(\"Number and percentage of restaurants in each price range category:\")\n",
    "print(price_range_stats)"
   ]
  },
  {
   "cell_type": "markdown",
   "metadata": {},
   "source": [
    "Interpretation : 44.4% of restaurants have a price range of 1, totaling 4444 restaurants.\n",
    "                 31.1% of restaurants have a price range of 2, totaling 3113 restaurants.\n",
    "                 14.1% of restaurants have a price range of 3, totaling 1408 restaurants.\n",
    "                 5.9% of restaurants have a price range of 4, totaling 586 restaurants."
   ]
  },
  {
   "cell_type": "markdown",
   "metadata": {},
   "source": [
    "#### Task 4 : Online Delivery"
   ]
  },
  {
   "cell_type": "markdown",
   "metadata": {},
   "source": [
    "Determining the percentage of restaurants that offer online delivery :"
   ]
  },
  {
   "cell_type": "code",
   "execution_count": 19,
   "metadata": {},
   "outputs": [
    {
     "name": "stdout",
     "output_type": "stream",
     "text": [
      "Percentage of restaurants that offer online delivery: 25.662234321013504\n"
     ]
    }
   ],
   "source": [
    "# Map 'No' to False and 'Yes' to True in the \"Has Online delivery\" column\n",
    "df['Has Online delivery'] = df['Has Online delivery'].map({'No': False, 'Yes': True})\n",
    "\n",
    "# Convert boolean values to integers (0 for False and 1 for True)\n",
    "df['Has Online delivery'] = df['Has Online delivery'].astype(int)\n",
    "\n",
    "# Count the number of restaurants that offer online delivery\n",
    "online_delivery_count = df['Has Online delivery'].sum()\n",
    "\n",
    "# Calculate the total number of restaurants\n",
    "total_restaurants = len(df)\n",
    "\n",
    "# Calculate the percentage of restaurants that offer online delivery\n",
    "percentage_online_delivery = (online_delivery_count / total_restaurants) * 100\n",
    "\n",
    "# Display the result\n",
    "print(\"Percentage of restaurants that offer online delivery:\", percentage_online_delivery)"
   ]
  },
  {
   "cell_type": "markdown",
   "metadata": {},
   "source": [
    "Interpretation : The output indicates that approximately 25.66% of the restaurants in the dataset offer online delivery services."
   ]
  },
  {
   "cell_type": "markdown",
   "metadata": {},
   "source": [
    "Comparing the average ratings of restaurants with and without online delivery : "
   ]
  },
  {
   "cell_type": "code",
   "execution_count": 20,
   "metadata": {},
   "outputs": [
    {
     "data": {
      "text/plain": [
       "Has Online delivery\n",
       "0    2.465296\n",
       "1    3.248837\n",
       "Name: Aggregate rating, dtype: float64"
      ]
     },
     "execution_count": 20,
     "metadata": {},
     "output_type": "execute_result"
    }
   ],
   "source": [
    "online_avg = df.groupby('Has Online delivery')['Aggregate rating'].mean().sort_values()\n",
    "online_avg"
   ]
  },
  {
   "cell_type": "markdown",
   "metadata": {},
   "source": [
    "Interpretation : Restaurants offering online delivery have an average rating of 3.25, while those without online delivery have an average rating of 2.47. This suggests a potential positive impact of online delivery on restaurant ratings."
   ]
  }
 ],
 "metadata": {
  "kernelspec": {
   "display_name": "Python 3",
   "language": "python",
   "name": "python3"
  },
  "language_info": {
   "codemirror_mode": {
    "name": "ipython",
    "version": 3
   },
   "file_extension": ".py",
   "mimetype": "text/x-python",
   "name": "python",
   "nbconvert_exporter": "python",
   "pygments_lexer": "ipython3",
   "version": "3.11.4"
  }
 },
 "nbformat": 4,
 "nbformat_minor": 2
}
